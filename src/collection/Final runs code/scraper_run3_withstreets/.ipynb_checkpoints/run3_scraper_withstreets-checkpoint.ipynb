{
 "cells": [
  {
   "cell_type": "markdown",
   "id": "d5b6dfd0",
   "metadata": {},
   "source": [
    "# Scraping Huizenzoeker.nl to Analyse the Dutch Housing Market"
   ]
  },
  {
   "cell_type": "markdown",
   "id": "579f5ec0",
   "metadata": {},
   "source": [
    "### Introduction\n",
    "Which places in the Netherlands are hit hardest by the Dutch Housing crisis, and which the least?\n",
    "Momentarily, the housing crisis is one of the most prominent societal challenges in the Netherlands. This script scrapes information of the Dutch housing market, enabling use to analyse the housing market and clearify which areas are hit hardest by the housing crisis. This script provides information such as gem. vraagprijs, # verkochte woningen, gem. vierkante meter prijs, and % overboden. The dataframe that is generated through this script offers very interesting information, for example for first-time buyers that are having a hard time purchasing their first home on the current stressed Dutch housing market.\n",
    "\n",
    "The script is divided into four main steps:\n",
    "* **Step 1. Loading all the basics**: this step loads all the relevent packages and sets up the BeautifulSoup basis.\n",
    "* **Step 2. Collecting the municipality URLs**: this step collects the urls of the municipalities in the Netherlands. For this step, we first need to create a list of the province URLs (twelve in total; for each province in the Netherlands). From these twelve province URLs, we are able to scrape the municipality URLs, since each province URL offers the opportunity to navigate to their corresponding municipalities.\n",
    "* **Step 3. Scrape data from each url (municipality-level)**: this step scrapes the data from the municipality URLs that we have generated in step 2.\n",
    "* **Step 4: Scrape data from each url (province-level)**: this step scrapes the data from each province. The same code that was used for scraping data on municipality-level is employed in this step.\n",
    "* **Step 5: Scrape data for individual streets (street-level)**: only included for a subset of the streets in Noord-Brabant/Tilburg/Tiburg. "
   ]
  },
  {
   "cell_type": "markdown",
   "id": "6909316b",
   "metadata": {},
   "source": [
    "## Step 1: Loading all the basics"
   ]
  },
  {
   "cell_type": "markdown",
   "id": "cffd89e5",
   "metadata": {},
   "source": [
    "These packages are needed to run our scraper, so make sure you install/load these first!"
   ]
  },
  {
   "cell_type": "code",
   "execution_count": 12,
   "id": "027cf859",
   "metadata": {},
   "outputs": [],
   "source": [
    "from bs4 import BeautifulSoup \n",
    "import requests\n",
    "import re\n",
    "import pandas as pd \n",
    "import time \n",
    "import json\n",
    "from selenium import webdriver \n",
    "from webdriver_manager.chrome import ChromeDriverManager\n",
    "from selenium.webdriver.common.by import By\n",
    "from selenium.webdriver.support.ui import WebDriverWait\n",
    "from selenium.webdriver.support import expected_conditions as EC"
   ]
  },
  {
   "cell_type": "markdown",
   "id": "ec926903",
   "metadata": {},
   "source": [
    "To use BeautifulSoup, we request to use the source code of the huizenzoeker woningmarkt page. "
   ]
  },
  {
   "cell_type": "code",
   "execution_count": 13,
   "id": "51ffaa39",
   "metadata": {},
   "outputs": [],
   "source": [
    "url = 'https://www.huizenzoeker.nl/woningmarkt/'\n",
    "res = requests.get(url)\n",
    "soup = BeautifulSoup(res.text, 'html.parser')"
   ]
  },
  {
   "cell_type": "markdown",
   "id": "a13a8dd4",
   "metadata": {},
   "source": [
    "## Step 2: Collecting the municipality URLs"
   ]
  },
  {
   "cell_type": "markdown",
   "id": "d2cdfd13",
   "metadata": {},
   "source": [
    "**Construct a list of URLs for all provinces of the Netherlands** "
   ]
  },
  {
   "cell_type": "markdown",
   "id": "ea0f9dba",
   "metadata": {},
   "source": [
    "We first construct a base url and a province_url which once appended together creates the URL to each of the woningmarkt pages for each province. We generate the generate_links() function to append these parts of the URL together. "
   ]
  },
  {
   "cell_type": "code",
   "execution_count": 14,
   "id": "5799e190",
   "metadata": {},
   "outputs": [],
   "source": [
    "base_url = 'https://www.huizenzoeker.nl/woningmarkt/' #fixed part municipality URLs\n",
    "province_url = ['noord-holland/', 'zuid-holland/', 'zeeland/', 'noord-brabant/', 'utrecht/', 'flevoland/', \n",
    "                'friesland/', 'groningen/', 'drenthe/', 'overijssel/', 'gelderland/', 'limburg/'] #variable part municipality URLS"
   ]
  },
  {
   "cell_type": "code",
   "execution_count": 15,
   "id": "b60a3e94",
   "metadata": {},
   "outputs": [],
   "source": [
    "def generate_links(base_url,province_url): \n",
    "    '''Takes in a base_url and province_url, returns these inputs pasted together'''\n",
    "    page_links = []\n",
    "    for i in province_url:\n",
    "        full_links = base_url + i\n",
    "        page_links.append(full_links)  \n",
    "    return page_links\n",
    "\n",
    "page_links = generate_links(base_url,province_url)"
   ]
  },
  {
   "cell_type": "markdown",
   "id": "37c3ef09",
   "metadata": {},
   "source": [
    "**Construct a list of URLs for all municipalities of each province of the Netherlands**"
   ]
  },
  {
   "cell_type": "markdown",
   "id": "8ec358d9",
   "metadata": {},
   "source": [
    "We then use this list of all province URLs, to extract all municipalities from each and thus generate URLs directing leading us to each municipality in each province, by making use of window handling. "
   ]
  },
  {
   "cell_type": "code",
   "execution_count": 16,
   "id": "b64361d7",
   "metadata": {},
   "outputs": [
    {
     "name": "stderr",
     "output_type": "stream",
     "text": [
      "\n",
      "\n",
      "====== WebDriver manager ======\n",
      "Current google-chrome version is 94.0.4606\n",
      "Get LATEST driver version for 94.0.4606\n",
      "Driver [C:\\Users\\danie\\.wdm\\drivers\\chromedriver\\win32\\94.0.4606.61\\chromedriver.exe] found in cache\n"
     ]
    }
   ],
   "source": [
    "driver = webdriver.Chrome(ChromeDriverManager().install())"
   ]
  },
  {
   "cell_type": "code",
   "execution_count": 17,
   "id": "a40a1ebb",
   "metadata": {},
   "outputs": [],
   "source": [
    "fn = 'page_urls_full.json'\n",
    "\n",
    "page_urls_full = []\n",
    "\n",
    "for link in page_links:\n",
    "    driver.switch_to.window(driver.window_handles[-1])\n",
    "    driver.get(link)\n",
    "    time.sleep(2)\n",
    "    \n",
    "    for elem in driver.find_elements_by_xpath(\"//li//div//a[@href]\"):\n",
    "        urls = elem.get_attribute('href')\n",
    "        page_urls_full.append(urls)"
   ]
  },
  {
   "cell_type": "markdown",
   "id": "2e2fc43b",
   "metadata": {},
   "source": [
    "## Step 3: Scrape data from each url (municipality-level)"
   ]
  },
  {
   "cell_type": "markdown",
   "id": "7fc35b06",
   "metadata": {},
   "source": [
    "**Scraper for municipality data**"
   ]
  },
  {
   "cell_type": "markdown",
   "id": "abef96a2",
   "metadata": {},
   "source": [
    "For each municipality we extract:\n",
    "* *Trend data*: gem. vraagprijs, verkochte woningen, gem.vierkantemeter prijs, % overboden (and how these numbers how changed t.o.v. vorige maand) \n",
    "* *Other information*: besteedbaar inkomen, aantal inwoners"
   ]
  },
  {
   "cell_type": "markdown",
   "id": "7c395376",
   "metadata": {},
   "source": [
    "#### Warning: Running the next cell for 'page_urls_full' will take aprox. 30 minutes. You might want to replace page_urls_full for 'subset'!"
   ]
  },
  {
   "cell_type": "code",
   "execution_count": 18,
   "id": "a869bee8",
   "metadata": {},
   "outputs": [],
   "source": [
    "fn = 'saved_data3.json' #saving the data as a JSON file\n",
    "\n",
    "def extract_city_trends(page_urls_full):\n",
    "    '''Takes in a list of municipality urls to scrape, returns a dictionary with all trend data, and the besteedbaar inkomen, aantal inwoners and populatie groei'''\n",
    "    trend_list = []\n",
    "    for page_url in page_urls_full:\n",
    "        driver.get(page_url)\n",
    "        time.sleep(5) \n",
    "        soup = BeautifulSoup(driver.page_source, 'html.parser')\n",
    "            # 'Provincie naam'\n",
    "        provincie_naam = soup.find_all('a')[6].get_text()\n",
    "            # 'Stadsnaam'\n",
    "        stad_naam = soup.find_all('h2')[0].get_text()\n",
    "        stad_naam = stad_naam.replace('Woningmarkt','')\n",
    "        stad_naam = stad_naam.replace(' ', '')\n",
    "            # 'Gemiddelde vraagprijs'\n",
    "        content = soup.find_all(class_='trend-graph')[0]\n",
    "        if content.find(class_=\"trend-graph-icon\") == None:\n",
    "            gem_vraagprijs = content.find(\"h3\",{\"class\":\"trend-graph-value\"}).get_text()\n",
    "            tov_vorige_maand_vraagprijs = \"NA\"\n",
    "        else:\n",
    "            if content.find(class_=\"trend-graph-pill trend-down\") != None:\n",
    "                gem_vraagprijs = content.find(\"h3\",{\"class\":\"trend-graph-value\"}).get_text()\n",
    "                gem_vraagprijs = gem_vraagprijs.replace(\"(\",\"\")\n",
    "                gem_vraagprijs = gem_vraagprijs.replace(\",)\",\"\")\n",
    "                gem_vraagprijs = gem_vraagprijs.replace(\".\", \",\")\n",
    "                tov_vorige_maand_vraagprijs = content.find(\"div\",{\"class\":\"trend-graph-pill trend-down\"}).get_text()\n",
    "                tov_vorige_maand_vraagprijs = tov_vorige_maand_vraagprijs.replace(\"\\n\\n\",\"\")\n",
    "                tov_vorige_maand_vraagprijs = tov_vorige_maand_vraagprijs.replace(\" t.o.v. vorige maand\\n\",\"\")\n",
    "            else:\n",
    "                gem_vraagprijs = content.find(\"h3\",{\"class\":\"trend-graph-value\"}).get_text()\n",
    "                gem_vraagprijs = gem_vraagprijs.replace(\"(\",\"\")\n",
    "                gem_vraagprijs = gem_vraagprijs.replace(\",)\",\"\")    \n",
    "                gem_vraagprijs = gem_vraagprijs.replace(\".\", \",\")\n",
    "                tov_vorige_maand_vraagprijs = content.find(\"div\",{\"class\":\"trend-graph-pill\"}).get_text()\n",
    "                tov_vorige_maand_vraagprijs = tov_vorige_maand_vraagprijs.replace(\"\\n\\n\",\"\")\n",
    "                tov_vorige_maand_vraagprijs = tov_vorige_maand_vraagprijs.replace(\" t.o.v. vorige maand\\n\",\"\")\n",
    "            # 'Aantal verkochte woningen'\n",
    "        content = soup.find_all(class_='trend-graph')[1]\n",
    "        if content.find(class_=\"trend-graph-icon\") == None:\n",
    "            verk_woningen = content.find(\"h3\",{\"class\":\"trend-graph-value\"}).get_text()\n",
    "            tov_vorige_maand_verkocht = \"NA\"\n",
    "        else:\n",
    "            if content.find(class_=\"trend-graph-pill trend-down\") != None:\n",
    "                verk_woningen = content.find(\"h3\",{\"class\":\"trend-graph-value\"}).get_text()               \n",
    "                tov_vorige_maand_verkocht = content.find(\"div\",{\"class\":\"trend-graph-pill trend-down\"}).get_text()\n",
    "                tov_vorige_maand_verkocht = tov_vorige_maand_verkocht.replace(\"\\n\\n\",\"\")\n",
    "                tov_vorige_maand_verkocht = tov_vorige_maand_verkocht.replace(\" t.o.v. vorige maand\\n\",\"\")\n",
    "            else:\n",
    "                verk_woningen = content.find(\"h3\",{\"class\":\"trend-graph-value\"}).get_text()             \n",
    "                tov_vorige_maand_verkocht = content.find(\"div\",{\"class\":\"trend-graph-pill\"}).get_text()\n",
    "                tov_vorige_maand_verkocht = tov_vorige_maand_verkocht.replace(\"\\n\\n\",\"\")\n",
    "                tov_vorige_maand_verkocht = tov_vorige_maand_verkocht.replace(\" t.o.v. vorige maand\\n\",\"\")\n",
    "            # 'Gemiddelde vierkante meter prijs'\n",
    "        content = soup.find_all(class_='trend-graph')[2]\n",
    "        if content.find(class_=\"trend-graph-icon\") == None:\n",
    "            m2_prijs = content.find(\"h3\",{\"class\":\"trend-graph-value\"}).get_text()\n",
    "            tov_vorige_maand_m2_prijs = \"NA\"\n",
    "        else:\n",
    "            if content.find(class_=\"trend-graph-pill trend-down\") != None:\n",
    "                m2_prijs = content.find(\"h3\",{\"class\":\"trend-graph-value\"}).get_text()     \n",
    "                m2_prijs = m2_prijs.replace(\".\", \",\")\n",
    "                tov_vorige_maand_m2_prijs = content.find(\"div\",{\"class\":\"trend-graph-pill trend-down\"}).get_text()\n",
    "                tov_vorige_maand_m2_prijs = tov_vorige_maand_m2_prijs.replace(\"\\n\\n\",\"\")\n",
    "                tov_vorige_maand_m2_prijs = tov_vorige_maand_m2_prijs.replace(\" t.o.v. vorige maand\\n\",\"\")\n",
    "            else:\n",
    "                m2_prijs = content.find(\"h3\",{\"class\":\"trend-graph-value\"}).get_text() \n",
    "                m2_prijs = m2_prijs.replace(\".\", \",\")\n",
    "                tov_vorige_maand_m2_prijs = content.find(\"div\",{\"class\":\"trend-graph-pill\"}).get_text() \n",
    "                tov_vorige_maand_m2_prijs = tov_vorige_maand_m2_prijs.replace(\"\\n\\n\",\"\")\n",
    "                tov_vorige_maand_m2_prijs = tov_vorige_maand_m2_prijs.replace(\" t.o.v. vorige maand\\n\",\"\")\n",
    "            # 'Percentage overboden'\n",
    "        content = soup.find_all(class_='trend-graph')[3]\n",
    "        if content.find(class_=\"trend-graph-icon\") == None:\n",
    "            perc_overboden = content.find(\"h3\",{\"class\":\"trend-graph-value\"}).get_text()\n",
    "            tov_vorige_maand_perc_overboden = \"NA\"\n",
    "        else:\n",
    "            if content.find(class_=\"trend-graph-pill trend-down\") != None:\n",
    "                perc_overboden = content.find(\"h3\",{\"class\":\"trend-graph-value\"}).get_text()               \n",
    "                tov_vorige_maand_perc_overboden = content.find(\"div\",{\"class\":\"trend-graph-pill trend-down\"}).get_text()\n",
    "                tov_vorige_maand_perc_overboden = tov_vorige_maand_perc_overboden.replace(\"\\n\\n\",\"\")\n",
    "                tov_vorige_maand_perc_overboden = tov_vorige_maand_perc_overboden.replace(\" t.o.v. vorige maand\\n\",\"\")\n",
    "            else:\n",
    "                perc_overboden = content.find(\"h3\",{\"class\":\"trend-graph-value\"}).get_text()             \n",
    "                tov_vorige_maand_perc_overboden = content.find(\"div\",{\"class\":\"trend-graph-pill\"}).get_text()\n",
    "                tov_vorige_maand_perc_overboden = tov_vorige_maand_perc_overboden.replace(\"\\n\\n\",\"\")\n",
    "                tov_vorige_maand_perc_overboden = tov_vorige_maand_perc_overboden.replace(\" t.o.v. vorige maand\\n\",\"\")\n",
    "            # 'Besteedbaar inkomen'\n",
    "        bes_inkomen = soup.find_all(class_='detail__income huizenzoeker-card single-value-graph-container')[0].get_text()\n",
    "        bes_inkomen = bes_inkomen.replace('\\n','')\n",
    "        bes_inkomen = bes_inkomen.replace('Besteedbaar Inkomen Per Huishouden','')\n",
    "        bes_inkomen = bes_inkomen.replace(\".\", \",\")\n",
    "            # 'Inwoners'\n",
    "        content = soup.find(\"div\", {\"class\": \"buurt-info\"})\n",
    "        inwoners = content.find_all('p')[3].get_text\n",
    "        inwoners = str(inwoners)\n",
    "        inwoners = re.search('Dat zijn(.+?)inwoners', inwoners)\n",
    "        if inwoners:\n",
    "            found_inwoners = inwoners.group(1)\n",
    "            found_inwoners = found_inwoners.strip()\n",
    "            found_inwoners = found_inwoners.replace(\".\", \",\")\n",
    "        else:\n",
    "            found_inwoners = 'NA'\n",
    "            # 'Bevolkingsgroei'\n",
    "        content = soup.find(\"div\", {\"class\": \"buurt-info\"})\n",
    "        populatiegroei = content('p')[4].get_text\n",
    "        populatiegroei = str(populatiegroei)\n",
    "        populatiegroei_increase = re.search('afgelopen jaar met (.+?) gegroeid', populatiegroei)\n",
    "        if populatiegroei_increase:\n",
    "            found_populatiegroei = populatiegroei_increase.group(1)\n",
    "            found_populatiegroei = found_populatiegroei.strip()\n",
    "        else:\n",
    "            found_populatiegroei = 'NA'\n",
    "        populatiegroei_decline = re.search('afgelopen jaar met (.+?) gekrompen', populatiegroei)\n",
    "        if populatiegroei_decline:\n",
    "            found_populatiegroei_decline = populatiegroei_decline.group(1)\n",
    "            found_populatiegroei_decline = found_populatiegroei_decline.strip() \n",
    "        else:\n",
    "            found_populatiegroei_decline = 'NA'\n",
    "            # Append list\n",
    "        save_obj = {\"Provincie\":provincie_naam, \"Stad\":stad_naam, \n",
    "                    \"Gem. vraagprijs\":gem_vraagprijs, \"%Δ Vraagprijs (t.o.v vorige maand)\": tov_vorige_maand_vraagprijs,\n",
    "                    \"Verkochte woningen\":verk_woningen, \"%Δ Verkochte woningen (t.o.v vorige maand)\":tov_vorige_maand_verkocht,\n",
    "                    \"Gem. m² prijs\":m2_prijs, \"%Δ m² prijs (t.o.v vorige maand)\":tov_vorige_maand_m2_prijs,\n",
    "                    \"% Vraagprijs overboden\":perc_overboden, \"%Δ Overboden (t.o.v vorige maand)\":tov_vorige_maand_perc_overboden,\n",
    "                    \"Besteedbaar inkomen (per huishouden)\":bes_inkomen,\n",
    "                    \"Aantal inwoners\": found_inwoners,\n",
    "                    \"% Populatie stijging\":found_populatiegroei, \"% Populatie daling\":found_populatiegroei_decline}\n",
    "        trend_list.append(save_obj)\n",
    "        f=open(fn, 'a', encoding='utf-8')\n",
    "        f.write(json.dumps(save_obj)+'\\n')\n",
    "        f.close()\n",
    "    return(trend_list)"
   ]
  },
  {
   "cell_type": "code",
   "execution_count": null,
   "id": "6a5e3089",
   "metadata": {},
   "outputs": [],
   "source": [
    "df = extract_city_trends(page_urls_full) \n",
    "pd.DataFrame(df) "
   ]
  },
  {
   "cell_type": "code",
   "execution_count": null,
   "id": "a1957a34",
   "metadata": {},
   "outputs": [],
   "source": [
    "df = extract_city_trends(page_urls_full) #saving the output as 'df'\n",
    "final_dataframe = pd.DataFrame(df) #dataframe with all data for all municipalities in the Netherlands\n",
    "final_dataframe #displaying the scraped municipality data as a Pandas dataframe "
   ]
  },
  {
   "cell_type": "code",
   "execution_count": null,
   "id": "b1efe71f",
   "metadata": {},
   "outputs": [],
   "source": [
    "final_dataframe=pd.DataFrame(df) #dataframe with all data for all municipalities in the Netherlands"
   ]
  },
  {
   "cell_type": "markdown",
   "id": "00f49b66",
   "metadata": {},
   "source": [
    "**Exporting the municipality-level dataframe as a CSV file, to be able to import it in R-Studio for analysis**"
   ]
  },
  {
   "cell_type": "code",
   "execution_count": null,
   "id": "d35649e0",
   "metadata": {},
   "outputs": [],
   "source": [
    "final_dataframe.to_csv('huizenzoeker_scraper_data3.csv') "
   ]
  },
  {
   "cell_type": "markdown",
   "id": "a5cee24a",
   "metadata": {},
   "source": [
    "## Step 4: Scrape data from each url (province-level)"
   ]
  },
  {
   "cell_type": "markdown",
   "id": "78600885",
   "metadata": {},
   "source": [
    "**Constructing the list of province URLs**"
   ]
  },
  {
   "cell_type": "markdown",
   "id": "8ae30abf",
   "metadata": {},
   "source": [
    "Here we use the function that we constructed (generate_links) before to construct the province-urls. This time, we are going to scrape the data from these urls themselves, instead of then navigating to each individual municipality. "
   ]
  },
  {
   "cell_type": "code",
   "execution_count": null,
   "id": "37d1a3dc",
   "metadata": {},
   "outputs": [],
   "source": [
    "page_links = generate_links(base_url,province_url) "
   ]
  },
  {
   "cell_type": "markdown",
   "id": "eb436aa3",
   "metadata": {},
   "source": [
    "**Scraper for province data**"
   ]
  },
  {
   "cell_type": "markdown",
   "id": "5c3b8723",
   "metadata": {},
   "source": [
    "For each Province we again extract:\n",
    "* *Trend data*: gem. vraagprijs, verkochte woningen, gem.vierkantemeter prijs, % overboden (and how these numbers how changed t.o.v. vorige maand) \n",
    "* *Other information*: besteedbaar inkomen, aantal inwoners"
   ]
  },
  {
   "cell_type": "code",
   "execution_count": null,
   "id": "743de748",
   "metadata": {},
   "outputs": [],
   "source": [
    "def extract_provincie_trends(page_links):\n",
    "    '''Takes in a list of province urls to scrape, returns a dictionary with all trend data, and the besteedbaar inkomen, aantal inwoners and populatie groei'''\n",
    "    trend_list = []\n",
    "    for page_link in page_links:\n",
    "        driver.get(page_link)\n",
    "        time.sleep(1) \n",
    "        soup = BeautifulSoup(driver.page_source, 'html.parser')\n",
    "            # 'Provincie'\n",
    "        provincie_naam = soup.find_all('h2')[0].get_text()\n",
    "        provincie_naam = provincie_naam.replace('Woningmarkt','')\n",
    "        provincie_naam = provincie_naam.replace(' ', '')\n",
    "            # 'Gemiddelde vraagprijs'\n",
    "        content = soup.find_all(class_='trend-graph')[0]\n",
    "        if content.find(class_=\"trend-graph-icon\") == None:\n",
    "            gem_vraagprijs = content.find(\"h3\",{\"class\":\"trend-graph-value\"}).get_text()\n",
    "            tov_vorige_maand_vraagprijs = \"NA\"\n",
    "        else:\n",
    "            if content.find(class_=\"trend-graph-pill trend-down\") != None:\n",
    "                gem_vraagprijs = content.find(\"h3\",{\"class\":\"trend-graph-value\"}).get_text()\n",
    "                gem_vraagprijs = gem_vraagprijs.replace(\"(\",\"\")\n",
    "                gem_vraagprijs = gem_vraagprijs.replace(\",)\",\"\")\n",
    "                gem_vraagprijs = gem_vraagprijs.replace(\".\", \",\")\n",
    "                tov_vorige_maand_vraagprijs = content.find(\"div\",{\"class\":\"trend-graph-pill trend-down\"}).get_text()\n",
    "                tov_vorige_maand_vraagprijs = tov_vorige_maand_vraagprijs.replace(\"\\n\\n\",\"\")\n",
    "                tov_vorige_maand_vraagprijs = tov_vorige_maand_vraagprijs.replace(\" t.o.v. vorige maand\\n\",\"\")\n",
    "            else:\n",
    "                gem_vraagprijs = content.find(\"h3\",{\"class\":\"trend-graph-value\"}).get_text()\n",
    "                gem_vraagprijs = gem_vraagprijs.replace(\"(\",\"\")\n",
    "                gem_vraagprijs = gem_vraagprijs.replace(\",)\",\"\")    \n",
    "                gem_vraagprijs = gem_vraagprijs.replace(\".\", \",\")\n",
    "                tov_vorige_maand_vraagprijs = content.find(\"div\",{\"class\":\"trend-graph-pill\"}).get_text()\n",
    "                tov_vorige_maand_vraagprijs = tov_vorige_maand_vraagprijs.replace(\"\\n\\n\",\"\")\n",
    "                tov_vorige_maand_vraagprijs = tov_vorige_maand_vraagprijs.replace(\" t.o.v. vorige maand\\n\",\"\")\n",
    "            # 'Aantal verkochte woningen'\n",
    "        content = soup.find_all(class_='trend-graph')[1]\n",
    "        if content.find(class_=\"trend-graph-icon\") == None:\n",
    "            verk_woningen = content.find(\"h3\",{\"class\":\"trend-graph-value\"}).get_text()\n",
    "            tov_vorige_maand_verkocht = \"NA\"\n",
    "        else:\n",
    "            if content.find(class_=\"trend-graph-pill trend-down\") != None:\n",
    "                verk_woningen = content.find(\"h3\",{\"class\":\"trend-graph-value\"}).get_text()               \n",
    "                tov_vorige_maand_verkocht = content.find(\"div\",{\"class\":\"trend-graph-pill trend-down\"}).get_text()\n",
    "                tov_vorige_maand_verkocht = tov_vorige_maand_verkocht.replace(\"\\n\\n\",\"\")\n",
    "                tov_vorige_maand_verkocht = tov_vorige_maand_verkocht.replace(\" t.o.v. vorige maand\\n\",\"\")\n",
    "            else:\n",
    "                verk_woningen = content.find(\"h3\",{\"class\":\"trend-graph-value\"}).get_text()             \n",
    "                tov_vorige_maand_verkocht = content.find(\"div\",{\"class\":\"trend-graph-pill\"}).get_text()\n",
    "                tov_vorige_maand_verkocht = tov_vorige_maand_verkocht.replace(\"\\n\\n\",\"\")\n",
    "                tov_vorige_maand_verkocht = tov_vorige_maand_verkocht.replace(\" t.o.v. vorige maand\\n\",\"\")\n",
    "            # 'Gemiddelde vierkante meter prijs'\n",
    "        content = soup.find_all(class_='trend-graph')[2]\n",
    "        if content.find(class_=\"trend-graph-icon\") == None:\n",
    "            m2_prijs = content.find(\"h3\",{\"class\":\"trend-graph-value\"}).get_text()\n",
    "            tov_vorige_maand_m2_prijs = \"NA\"\n",
    "        else:\n",
    "            if content.find(class_=\"trend-graph-pill trend-down\") != None:\n",
    "                m2_prijs = content.find(\"h3\",{\"class\":\"trend-graph-value\"}).get_text()     \n",
    "                m2_prijs = m2_prijs.replace(\".\", \",\")\n",
    "                tov_vorige_maand_m2_prijs = content.find(\"div\",{\"class\":\"trend-graph-pill trend-down\"}).get_text()\n",
    "                tov_vorige_maand_m2_prijs = tov_vorige_maand_m2_prijs.replace(\"\\n\\n\",\"\")\n",
    "                tov_vorige_maand_m2_prijs = tov_vorige_maand_m2_prijs.replace(\" t.o.v. vorige maand\\n\",\"\")\n",
    "            else:\n",
    "                m2_prijs = content.find(\"h3\",{\"class\":\"trend-graph-value\"}).get_text() \n",
    "                m2_prijs = m2_prijs.replace(\".\", \",\")\n",
    "                tov_vorige_maand_m2_prijs = content.find(\"div\",{\"class\":\"trend-graph-pill\"}).get_text() \n",
    "                tov_vorige_maand_m2_prijs = tov_vorige_maand_m2_prijs.replace(\"\\n\\n\",\"\")\n",
    "                tov_vorige_maand_m2_prijs = tov_vorige_maand_m2_prijs.replace(\" t.o.v. vorige maand\\n\",\"\")\n",
    "            # 'Percentage overboden'\n",
    "        content = soup.find_all(class_='trend-graph')[3]\n",
    "        if content.find(class_=\"trend-graph-icon\") == None:\n",
    "            perc_overboden = content.find(\"h3\",{\"class\":\"trend-graph-value\"}).get_text()\n",
    "            tov_vorige_maand_perc_overboden = \"NA\"\n",
    "        else:\n",
    "            if content.find(class_=\"trend-graph-pill trend-down\") != None:\n",
    "                perc_overboden = content.find(\"h3\",{\"class\":\"trend-graph-value\"}).get_text()               \n",
    "                tov_vorige_maand_perc_overboden = content.find(\"div\",{\"class\":\"trend-graph-pill trend-down\"}).get_text()\n",
    "                tov_vorige_maand_perc_overboden = tov_vorige_maand_perc_overboden.replace(\"\\n\\n\",\"\")\n",
    "                tov_vorige_maand_perc_overboden = tov_vorige_maand_perc_overboden.replace(\" t.o.v. vorige maand\\n\",\"\")\n",
    "            else:\n",
    "                perc_overboden = content.find(\"h3\",{\"class\":\"trend-graph-value\"}).get_text()             \n",
    "                tov_vorige_maand_perc_overboden = content.find(\"div\",{\"class\":\"trend-graph-pill\"}).get_text()\n",
    "                tov_vorige_maand_perc_overboden = tov_vorige_maand_perc_overboden.replace(\"\\n\\n\",\"\")\n",
    "                tov_vorige_maand_perc_overboden = tov_vorige_maand_perc_overboden.replace(\" t.o.v. vorige maand\\n\",\"\")\n",
    "            # 'Besteedbaar inkomen'\n",
    "        bes_inkomen = soup.find_all(class_='detail__income huizenzoeker-card single-value-graph-container')[0].get_text()\n",
    "        bes_inkomen = bes_inkomen.replace('\\n','')\n",
    "        bes_inkomen = bes_inkomen.replace('Besteedbaar Inkomen Per Huishouden','')\n",
    "        bes_inkomen = bes_inkomen.replace(\".\", \",\")\n",
    "            # 'Inwoners'\n",
    "        content = soup.find(\"div\", {\"class\": \"buurt-info\"})\n",
    "        inwoners = content.find_all('p')[3].get_text\n",
    "        inwoners = str(inwoners)\n",
    "        inwoners = re.search('Dat zijn(.+?)inwoners', inwoners)\n",
    "        found_inwoners = 'NA'\n",
    "        if inwoners:\n",
    "            found_inwoners = inwoners.group(1)\n",
    "            found_inwoners = found_inwoners.strip()\n",
    "            found_inwoners = found_inwoners.replace(\".\", \",\")\n",
    "            # 'Bevolkingsgroei'\n",
    "        content = soup.find(\"div\", {\"class\": \"buurt-info\"})\n",
    "        populatiegroei = content('p')[4].get_text\n",
    "        populatiegroei = str(populatiegroei)\n",
    "        populatiegroei_increase = re.search('afgelopen jaar met (.+?) gegroeid', populatiegroei)\n",
    "        if populatiegroei_increase:\n",
    "            found_populatiegroei = populatiegroei_increase.group(1)\n",
    "            found_populatiegroei = found_populatiegroei.strip()\n",
    "        else:\n",
    "            found_populatiegroei = 'NA'\n",
    "        populatiegroei_decline = re.search('afgelopen jaar met (.+?) gekrompen', populatiegroei)\n",
    "        if populatiegroei_decline:\n",
    "            found_populatiegroei_decline = populatiegroei_decline.group(1)\n",
    "            found_populatiegroei_decline = found_populatiegroei_decline.strip() \n",
    "        else:\n",
    "            found_populatiegroei_decline = 'NA'\n",
    "            # Append list\n",
    "        trend_list.append({\"Provincie\":provincie_naam, \n",
    "                    \"Gem. vraagprijs\":gem_vraagprijs, \"%Δ Vraagprijs (t.o.v vorige maand)\": tov_vorige_maand_vraagprijs,\n",
    "                    \"Verkochte woningen\":verk_woningen, \"%Δ Verkochte woningen (t.o.v vorige maand)\":tov_vorige_maand_verkocht,\n",
    "                    \"Gem. m² prijs\":m2_prijs, \"%Δ m² prijs (t.o.v vorige maand)\":tov_vorige_maand_m2_prijs,\n",
    "                    \"% Vraagprijs overboden\":perc_overboden, \"%Δ Overboden (t.o.v vorige maand)\":tov_vorige_maand_perc_overboden,\n",
    "                    \"Besteedbaar inkomen (per huishouden)\":bes_inkomen,\n",
    "                    \"Aantal inwoners\": found_inwoners,\n",
    "                    \"% Populatie stijging\":found_populatiegroei, \"% Populatie daling\":found_populatiegroei_decline})\n",
    "    return(trend_list)"
   ]
  },
  {
   "cell_type": "code",
   "execution_count": null,
   "id": "c2bdaaf7",
   "metadata": {},
   "outputs": [],
   "source": [
    "df2 = extract_provincie_trends(page_links) #saving the output as variable 'df2'\n",
    "province_dataframe = pd.DataFrame(df2) #dataframe with all data for all provinces of the Netherlands\n",
    "province_dataframe #displaying the Pandas dataframe"
   ]
  },
  {
   "cell_type": "markdown",
   "id": "8810a02d",
   "metadata": {},
   "source": [
    "**Exporting the province-level dataset as a CSV file, to import it into RStudio for analysis**"
   ]
  },
  {
   "cell_type": "code",
   "execution_count": null,
   "id": "89db82ae",
   "metadata": {},
   "outputs": [],
   "source": [
    "province_dataframe.to_csv(r'huizenzoeker_province_data3.csv')"
   ]
  },
  {
   "cell_type": "markdown",
   "id": "d2e8f59d",
   "metadata": {},
   "source": [
    "## Step 4: Scrape data from each url (street-level)"
   ]
  },
  {
   "cell_type": "markdown",
   "id": "6df59cf8",
   "metadata": {},
   "source": [
    "To be able to scrape data on street-level, we first need to scrape the urls of each residence (\"woonplaats\") after which we are able to scrape the urls of each street in each residence. To be able to scrape the urls of each residence, we make use of the municipality-urls. However, since each municipality in the Netherlands contains multiple residences, and each residence contains a lot streets, generating this dataset for each province in the Netherlands will take a lot of time (which is beyond the scope of this project). "
   ]
  },
  {
   "cell_type": "markdown",
   "id": "cf17a533",
   "metadata": {},
   "source": [
    "Therefore, to give an impression of how data on street-level looks like, we decided to focus on the province 'Noord-Brabant', the municipality 'Tilburg' and the residence 'Tilburg' (the municipality Tilburg has four residences: Berkel-Enschot, Tilburg, Udenhout and Zundert). From the residence 'Tilburg' we will extract all the streets (such as  Warandelaan, the street name of Tilburg University!). From these streets pages, we are able to extract data such as the distance to the nearest cinema or to the nearest child day care."
   ]
  },
  {
   "cell_type": "markdown",
   "id": "ca193a71",
   "metadata": {},
   "source": [
    "#### Scraping residence URLS for the subset Noord-Brabant "
   ]
  },
  {
   "cell_type": "code",
   "execution_count": null,
   "id": "d07189d4",
   "metadata": {},
   "outputs": [],
   "source": [
    "subset = page_urls_full[112:173] # subset for municipalities Noord-Brabant \n",
    "\n",
    "page_urls_residences = [] \n",
    "\n",
    "for link in subset:\n",
    "    driver.switch_to.window(driver.window_handles[-1])\n",
    "    driver.get(link)\n",
    "    time.sleep(2)\n",
    "    \n",
    "    for elem in driver.find_elements_by_xpath(\"//li//div//a[@href]\"):\n",
    "        urls = elem.get_attribute('href')\n",
    "        page_urls_residences.append(urls)"
   ]
  },
  {
   "cell_type": "markdown",
   "id": "66c87c92",
   "metadata": {},
   "source": [
    "#### Using button.click( ) to navigate to the next pages of '../tilburg/tilburg'"
   ]
  },
  {
   "cell_type": "code",
   "execution_count": null,
   "id": "74981a94",
   "metadata": {},
   "outputs": [],
   "source": [
    "x = ['/html/body/div[2]/div/section[4]/div/div[2]/div/button[1]',\n",
    "    '/html/body/div[2]/div/section[4]/div/div[2]/div/button[2]',\n",
    "    '/html/body/div[2]/div/section[4]/div/div[2]/div/button[3]',\n",
    "    '/html/body/div[2]/div/section[4]/div/div[2]/div/button[4]',\n",
    "    '/html/body/div[2]/div/section[4]/div/div[2]/div/button[5]',\n",
    "    '/html/body/div[2]/div/section[4]/div/div[2]/div/button[6]',\n",
    "    '/html/body/div[2]/div/section[4]/div/div[2]/div/button[7]',\n",
    "    '/html/body/div[2]/div/section[4]/div/div[2]/div/button[8]',\n",
    "    '/html/body/div[2]/div/section[4]/div/div[2]/div/button[9]',\n",
    "    '/html/body/div[2]/div/section[4]/div/div[2]/div/button[10]',\n",
    "    '/html/body/div[2]/div/section[4]/div/div[2]/div/button[11]',\n",
    "    '/html/body/div[2]/div/section[4]/div/div[2]/div/button[12]',\n",
    "    '/html/body/div[2]/div/section[4]/div/div[2]/div/button[13]',\n",
    "    '/html/body/div[2]/div/section[4]/div/div[2]/div/button[14]',\n",
    "    '/html/body/div[2]/div/section[4]/div/div[2]/div/button[15]',\n",
    "    '/html/body/div[2]/div/section[4]/div/div[2]/div/button[16]',\n",
    "    '/html/body/div[2]/div/section[4]/div/div[2]/div/button[17]',\n",
    "    '/html/body/div[2]/div/section[4]/div/div[2]/div/button[18]',\n",
    "    '/html/body/div[2]/div/section[4]/div/div[2]/div/button[19]',\n",
    "    '/html/body/div[2]/div/section[4]/div/div[2]/div/button[20]',\n",
    "    '/html/body/div[2]/div/section[4]/div/div[2]/div/button[21]']"
   ]
  },
  {
   "cell_type": "markdown",
   "id": "31dc0703",
   "metadata": {},
   "source": [
    "**Scraping a list of streetnames for Tilburg/Tilburg**"
   ]
  },
  {
   "cell_type": "code",
   "execution_count": null,
   "id": "291337fd",
   "metadata": {},
   "outputs": [],
   "source": [
    "residence_tilburgtilburg = page_urls_residences[255:256] #subset for streetnames of Tilburg\n",
    "try_out = [] \n",
    "\n",
    "for link in residence_tilburgtilburg:\n",
    "    driver.switch_to.window(driver.window_handles[-1])\n",
    "    driver.get(link)\n",
    "    time.sleep(2)\n",
    "    try:\n",
    "        driver.find_element_by_class_name('cookie-consent-accept').click()\n",
    "    except:\n",
    "        print('You probably already clicked on the accept button!')\n",
    "    \n",
    "    for button in x:\n",
    "        click_next = driver.find_element_by_xpath(button)\n",
    "        click_next.click() \n",
    "        time.sleep(4)\n",
    "    \n",
    "        for elem in driver.find_elements_by_xpath(\"//li//div//a[@href]\"):\n",
    "            urls = elem.get_attribute('href')\n",
    "            try_out.append(urls)"
   ]
  },
  {
   "cell_type": "markdown",
   "id": "fdf2ac47",
   "metadata": {},
   "source": [
    "#### Scraping the data from the street pages"
   ]
  },
  {
   "cell_type": "code",
   "execution_count": null,
   "id": "46b5338f",
   "metadata": {},
   "outputs": [],
   "source": [
    "try_out_subset = try_out[1800:2014]\n",
    "\n",
    "def extract_street_trends(try_out_subset):\n",
    "    trend_list_streets = []\n",
    "    for url in try_out_subset:\n",
    "        driver.get(url)\n",
    "        time.sleep(2) \n",
    "        soup = BeautifulSoup(driver.page_source, 'html.parser')\n",
    "            # Street name\n",
    "        street_name = soup.find_all('h2')[0].get_text()\n",
    "        street_name = street_name.replace('Woningmarkt','')\n",
    "        street_name = street_name.replace(' ', '')\n",
    "            # Aantal woningen\n",
    "        content = soup.find_all(class_='trend-graph')[0]\n",
    "        aantal_woningen = content.find(\"h3\",{\"class\":\"trend-graph-value\"}).get_text()\n",
    "            # Woonplaats\n",
    "        content = soup.find_all(class_='trend-graph')[1]\n",
    "        woonplaats = content.find(\"h3\",{\"class\":\"trend-graph-value\"}).get_text()\n",
    "            # Gem. bouwjaar\n",
    "        content = soup.find_all(class_='trend-graph')[2]\n",
    "        av_bouwjaar = content.find(\"h3\",{\"class\":\"trend-graph-value\"}).get_text()\n",
    "            # Gem. woonoppervlakte \n",
    "        content = soup.find_all(class_='trend-graph')[3]\n",
    "        gem_woonopv = content.find(\"h3\",{\"class\":\"trend-graph-value\"}).get_text() \n",
    "        gem_woonopv = gem_woonopv.replace('m²','')\n",
    "            # Bioscoop\n",
    "        content = soup.find_all(class_='consumer-icon')[0]\n",
    "        bioscoop = content.select('div > p')[1].get_text()\n",
    "        bioscoop = bioscoop.replace(' m','')\n",
    "            # Treinstation\n",
    "        content = soup.find_all(class_='consumer-icon')[1]\n",
    "        treinstation = content.select('div > p')[1].get_text()\n",
    "        treinstation = treinstation.replace(' m','')\n",
    "             # Busstation\n",
    "        content = soup.find_all(class_='consumer-icon')[2]\n",
    "        busstation = content.select('div > p')[1].get_text()\n",
    "        busstation = busstation.replace(' m','')\n",
    "            # School\n",
    "        content = soup.find_all(class_='consumer-icon')[3]\n",
    "        school = content.select('div > p')[1].get_text()   \n",
    "        school = school.replace(' m','')\n",
    "            # Kinderopvang\n",
    "        content = soup.find_all(class_='consumer-icon')[4]\n",
    "        kinderopvang = content.select('div > p')[1].get_text()\n",
    "        kinderopvang = kinderopvang.replace(' m','')\n",
    "            # Supermarkt\n",
    "        content = soup.find_all(class_='consumer-icon')[5]\n",
    "        supermarkt = content.select('div > p')[1].get_text()\n",
    "        supermarkt = supermarkt.replace(' m','')\n",
    "            # Besteedbaar inkomen\n",
    "        bes_inkomen = soup.find_all(class_='detail__income huizenzoeker-card single-value-graph-container')[0].get_text()\n",
    "        bes_inkomen = bes_inkomen.replace('\\n','')\n",
    "        bes_inkomen = bes_inkomen.replace('Besteedbaar Inkomen Per Huishouden','')\n",
    "        bes_inkomen = bes_inkomen.replace(\".\", \",\")\n",
    "            # Append list\n",
    "        trend_list_streets.append({\"Straat\":street_name, \n",
    "                          \"Woonplaats\":woonplaats,\n",
    "                           \"Aantal woningen\":aantal_woningen,\n",
    "                          \"Gem. bouwjaar\":av_bouwjaar,\n",
    "                          \"Gem. woonoppervlakte (m²)\":gem_woonopv,\n",
    "                          \"Bioscoop (m)\":bioscoop,\n",
    "                          \"Treinstation (m)\":treinstation,\n",
    "                          \"Busstation (m)\":busstation,\n",
    "                          \"School (m)\":school,\n",
    "                          \"Kinderopvang (m)\":kinderopvang,\n",
    "                          \"Supermarkt (m)\":supermarkt,\n",
    "                          \"Besteedbaar inkomen\":bes_inkomen})\n",
    "    return(trend_list_streets)"
   ]
  },
  {
   "cell_type": "code",
   "execution_count": null,
   "id": "a66eb48d",
   "metadata": {},
   "outputs": [],
   "source": [
    "df = extract_street_trends(try_out_subset) \n",
    "try_out_streets = pd.DataFrame(df) #displaying the scraped data in a Pandas dataframe\n",
    "try_out_streets"
   ]
  },
  {
   "cell_type": "code",
   "execution_count": null,
   "id": "8ebf5118",
   "metadata": {},
   "outputs": [],
   "source": [
    "try_out_streets.to_csv(r'huizenzoeker_street_data3.csv')"
   ]
  }
 ],
 "metadata": {
  "kernelspec": {
   "display_name": "Python 3 (ipykernel)",
   "language": "python",
   "name": "python3"
  },
  "language_info": {
   "codemirror_mode": {
    "name": "ipython",
    "version": 3
   },
   "file_extension": ".py",
   "mimetype": "text/x-python",
   "name": "python",
   "nbconvert_exporter": "python",
   "pygments_lexer": "ipython3",
   "version": "3.8.8"
  }
 },
 "nbformat": 4,
 "nbformat_minor": 5
}
